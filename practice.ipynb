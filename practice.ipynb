{
 "cells": [
  {
   "cell_type": "code",
   "execution_count": 2,
   "id": "70b297b4-bd9c-4b5b-86d2-218a9594ddc0",
   "metadata": {},
   "outputs": [],
   "source": [
    "#class methods in which we not req. to create object"
   ]
  },
  {
   "cell_type": "code",
   "execution_count": 3,
   "id": "c207c661-960c-4f73-a643-b617eb6ddbf1",
   "metadata": {},
   "outputs": [],
   "source": [
    "class may:\n",
    "    def __init__(self,name,email):\n",
    "        self.name=name\n",
    "        self.email=email\n",
    "    \n",
    "    def stud_details(self):\n",
    "        print(self.name,self.email)"
   ]
  },
  {
   "cell_type": "code",
   "execution_count": 4,
   "id": "71eeff5e-5d2d-4cff-be14-a8ef293490cb",
   "metadata": {},
   "outputs": [],
   "source": [
    "c1=may(\"mayank\",\"mayan@gmail.com\")"
   ]
  },
  {
   "cell_type": "code",
   "execution_count": 5,
   "id": "7af94dc7-52e7-41bb-b205-f7e4ccd736c2",
   "metadata": {},
   "outputs": [
    {
     "data": {
      "text/plain": [
       "'mayank'"
      ]
     },
     "execution_count": 5,
     "metadata": {},
     "output_type": "execute_result"
    }
   ],
   "source": [
    "c1.name"
   ]
  },
  {
   "cell_type": "code",
   "execution_count": 12,
   "id": "17b4dd42-1668-43b2-99ed-5af92c730d3c",
   "metadata": {},
   "outputs": [],
   "source": [
    "#without creating object"
   ]
  },
  {
   "cell_type": "code",
   "execution_count": 3,
   "id": "6badc4a7-50aa-4150-88c6-40cb11031923",
   "metadata": {},
   "outputs": [],
   "source": [
    "class may:\n",
    "    def __init__(self,name,email):\n",
    "        self.name=name\n",
    "        self.email=email\n",
    "    \n",
    "    @classmethod\n",
    "    def details(cls,name,email):\n",
    "        return cls(name,email)\n",
    "    \n",
    "    def stud_details(self):\n",
    "        print(self.name,self.email)"
   ]
  },
  {
   "cell_type": "code",
   "execution_count": 4,
   "id": "30fe627b-ad30-41d2-8b28-d45442bddf2a",
   "metadata": {},
   "outputs": [],
   "source": [
    "c2=may.details(\"mamaa\",\"saa@gmail.com\") #no need to create obj"
   ]
  },
  {
   "cell_type": "code",
   "execution_count": 5,
   "id": "d0e2971a-0e63-49aa-b745-8e6b65ebcc17",
   "metadata": {},
   "outputs": [
    {
     "data": {
      "text/plain": [
       "<__main__.may at 0x7fcad0255db0>"
      ]
     },
     "execution_count": 5,
     "metadata": {},
     "output_type": "execute_result"
    }
   ],
   "source": [
    "may.details(\"mamaa\",\"saa@gmail.com\")"
   ]
  },
  {
   "cell_type": "code",
   "execution_count": 6,
   "id": "7a78d350-910c-4e42-93f6-029dd27fe74f",
   "metadata": {},
   "outputs": [
    {
     "data": {
      "text/plain": [
       "'mamaa'"
      ]
     },
     "execution_count": 6,
     "metadata": {},
     "output_type": "execute_result"
    }
   ],
   "source": [
    "c2.name"
   ]
  },
  {
   "cell_type": "code",
   "execution_count": null,
   "id": "7937c905-fc97-4e49-8368-de04f073238c",
   "metadata": {},
   "outputs": [],
   "source": []
  },
  {
   "cell_type": "code",
   "execution_count": 7,
   "id": "9f993fd3-791e-47a0-8f0c-dc43375fde1c",
   "metadata": {},
   "outputs": [],
   "source": [
    "class may:\n",
    "    \n",
    "    number=96552526627\n",
    "    \n",
    "    def __init__(self,name,email):\n",
    "        self.name=name\n",
    "        self.email=email\n",
    "    \n",
    "    @classmethod\n",
    "    def details(cls,name,email):\n",
    "        return cls(name,email)\n",
    "    \n",
    "    def stud_details(self):\n",
    "        print(self.name,self.email)"
   ]
  },
  {
   "cell_type": "code",
   "execution_count": 11,
   "id": "6208b4ec-8083-4ff6-a375-bd4eb670c02f",
   "metadata": {},
   "outputs": [],
   "source": [
    "q=may.details(\"jjas\",\"sassa@gmail.com\")"
   ]
  },
  {
   "cell_type": "code",
   "execution_count": 12,
   "id": "df2496b1-98a5-4554-8907-b5ca2a3d6da5",
   "metadata": {},
   "outputs": [
    {
     "data": {
      "text/plain": [
       "'jjas'"
      ]
     },
     "execution_count": 12,
     "metadata": {},
     "output_type": "execute_result"
    }
   ],
   "source": [
    "q.name"
   ]
  },
  {
   "cell_type": "code",
   "execution_count": 13,
   "id": "efb1c60f-512d-48c8-9095-b779aa6f6661",
   "metadata": {},
   "outputs": [
    {
     "data": {
      "text/plain": [
       "96552526627"
      ]
     },
     "execution_count": 13,
     "metadata": {},
     "output_type": "execute_result"
    }
   ],
   "source": [
    "q.number"
   ]
  },
  {
   "cell_type": "code",
   "execution_count": 15,
   "id": "b6447ebd-2328-411e-af62-59af0af62f07",
   "metadata": {},
   "outputs": [
    {
     "data": {
      "text/plain": [
       "96552526627"
      ]
     },
     "execution_count": 15,
     "metadata": {},
     "output_type": "execute_result"
    }
   ],
   "source": [
    "may.number #because number is not inside anything thats y it work with may.number"
   ]
  },
  {
   "cell_type": "code",
   "execution_count": 17,
   "id": "7e7e4a92-4871-43c7-8278-bd5a7b76277d",
   "metadata": {},
   "outputs": [
    {
     "ename": "AttributeError",
     "evalue": "type object 'may' has no attribute 'name'",
     "output_type": "error",
     "traceback": [
      "\u001b[0;31m---------------------------------------------------------------------------\u001b[0m",
      "\u001b[0;31mAttributeError\u001b[0m                            Traceback (most recent call last)",
      "Cell \u001b[0;32mIn[17], line 1\u001b[0m\n\u001b[0;32m----> 1\u001b[0m \u001b[43mmay\u001b[49m\u001b[38;5;241;43m.\u001b[39;49m\u001b[43mname\u001b[49m \u001b[38;5;66;03m#tis is not work\u001b[39;00m\n",
      "\u001b[0;31mAttributeError\u001b[0m: type object 'may' has no attribute 'name'"
     ]
    }
   ],
   "source": [
    "may.name #tis is not work"
   ]
  },
  {
   "cell_type": "code",
   "execution_count": null,
   "id": "06e6de96-2e3c-4055-83ea-91146a73fec9",
   "metadata": {},
   "outputs": [],
   "source": []
  },
  {
   "cell_type": "code",
   "execution_count": 18,
   "id": "098dc280-fcfe-4450-8923-87d4964c4878",
   "metadata": {},
   "outputs": [],
   "source": [
    "class may:\n",
    "    \n",
    "    number=96552526627\n",
    "    \n",
    "    def __init__(self,name,email):\n",
    "        self.name=name\n",
    "        self.email=email\n",
    "        \n",
    "    @classmethod\n",
    "    def change_number(cls,number):\n",
    "        may.number=number\n",
    "    \n",
    "    @classmethod\n",
    "    def details(cls,name,email):\n",
    "        return cls(name,email)\n",
    "    \n",
    "    def stud_details(self):\n",
    "        print(self.name,self.email)"
   ]
  },
  {
   "cell_type": "code",
   "execution_count": 19,
   "id": "1402c56d-b916-4978-ac34-ec9fdced9425",
   "metadata": {},
   "outputs": [],
   "source": [
    "may.change_number(43435454543)"
   ]
  },
  {
   "cell_type": "code",
   "execution_count": 20,
   "id": "e577cc3a-f9e1-4217-91f9-3968532f2587",
   "metadata": {},
   "outputs": [
    {
     "data": {
      "text/plain": [
       "43435454543"
      ]
     },
     "execution_count": 20,
     "metadata": {},
     "output_type": "execute_result"
    }
   ],
   "source": [
    "may.number"
   ]
  },
  {
   "cell_type": "code",
   "execution_count": null,
   "id": "6853a6e5-2a48-4e75-a5c5-018e644afccb",
   "metadata": {},
   "outputs": [],
   "source": []
  },
  {
   "cell_type": "code",
   "execution_count": 41,
   "id": "db8c7b2a-afb6-4eb4-a301-4855df2ee0b4",
   "metadata": {},
   "outputs": [],
   "source": [
    "class mayank: #without init method in this class empty\n",
    "    def details(self,name,num):\n",
    "        print(name,num)\n",
    "        "
   ]
  },
  {
   "cell_type": "code",
   "execution_count": 42,
   "id": "68ec9d66-6d1e-4bfd-aa18-aa24d5213494",
   "metadata": {},
   "outputs": [],
   "source": [
    "c=mayank()"
   ]
  },
  {
   "cell_type": "code",
   "execution_count": 43,
   "id": "77fd32b6-6f0a-4654-9f72-393423e17416",
   "metadata": {},
   "outputs": [
    {
     "name": "stdout",
     "output_type": "stream",
     "text": [
      "ssa saa@\n"
     ]
    }
   ],
   "source": [
    "c.details(\"ssa\",\"saa@\")"
   ]
  },
  {
   "cell_type": "code",
   "execution_count": null,
   "id": "80daeb21-147a-446f-b7f4-3c37ce1191ff",
   "metadata": {},
   "outputs": [],
   "source": []
  },
  {
   "cell_type": "code",
   "execution_count": 12,
   "id": "2ffcc2c0-b1a8-4aa0-ad47-15ae53061980",
   "metadata": {},
   "outputs": [],
   "source": [
    "class may:\n",
    "    def __init__(self,name,email):\n",
    "        self.name=name\n",
    "        self.email=email\n",
    "    \n",
    "    def stud_details(self):\n",
    "        print(self.name,self.email)"
   ]
  },
  {
   "cell_type": "code",
   "execution_count": 13,
   "id": "e48d5583-e82b-4b3a-929b-876c9e48f325",
   "metadata": {},
   "outputs": [],
   "source": [
    "c=may(\"sasa\",\"saasas@\")"
   ]
  },
  {
   "cell_type": "code",
   "execution_count": 14,
   "id": "2d9c03fa-50db-4202-a515-6802f8b2542f",
   "metadata": {},
   "outputs": [
    {
     "data": {
      "text/plain": [
       "'sasa'"
      ]
     },
     "execution_count": 14,
     "metadata": {},
     "output_type": "execute_result"
    }
   ],
   "source": [
    "c.name"
   ]
  },
  {
   "cell_type": "code",
   "execution_count": 15,
   "id": "9c7d6dd0-9b0b-494a-bbf6-9535474bf859",
   "metadata": {},
   "outputs": [
    {
     "name": "stdout",
     "output_type": "stream",
     "text": [
      "sasa saasas@\n"
     ]
    }
   ],
   "source": [
    "c.stud_details()"
   ]
  },
  {
   "cell_type": "code",
   "execution_count": 19,
   "id": "1774cdff-4763-4523-a615-c2bed96a90db",
   "metadata": {},
   "outputs": [
    {
     "ename": "TypeError",
     "evalue": "may.stud_details() takes 1 positional argument but 2 were given",
     "output_type": "error",
     "traceback": [
      "\u001b[0;31m---------------------------------------------------------------------------\u001b[0m",
      "\u001b[0;31mTypeError\u001b[0m                                 Traceback (most recent call last)",
      "Cell \u001b[0;32mIn[19], line 1\u001b[0m\n\u001b[0;32m----> 1\u001b[0m w\u001b[38;5;241m=\u001b[39m\u001b[43mmay\u001b[49m\u001b[38;5;241;43m.\u001b[39;49m\u001b[43mstud_details\u001b[49m\u001b[43m(\u001b[49m\u001b[38;5;124;43m\"\u001b[39;49m\u001b[38;5;124;43mmmaA\u001b[39;49m\u001b[38;5;124;43m\"\u001b[39;49m\u001b[43m,\u001b[49m\u001b[38;5;124;43m\"\u001b[39;49m\u001b[38;5;124;43mdswd@g\u001b[39;49m\u001b[38;5;124;43m\"\u001b[39;49m\u001b[43m)\u001b[49m \u001b[38;5;66;03m#error as class is not defined\u001b[39;00m\n",
      "\u001b[0;31mTypeError\u001b[0m: may.stud_details() takes 1 positional argument but 2 were given"
     ]
    }
   ],
   "source": [
    "w=may.stud_details(\"mmaA\",\"dswd@g\") #error as class is not defined"
   ]
  },
  {
   "cell_type": "code",
   "execution_count": 22,
   "id": "e0e67d9f-5372-420e-81ab-bc7703af4c33",
   "metadata": {},
   "outputs": [],
   "source": [
    "class may:\n",
    "    def __init__(self,name,email):\n",
    "        self.name=name\n",
    "        self.email=email\n",
    "    \n",
    "    @classmethod\n",
    "    def stud_details(self):\n",
    "        return(self.name,self.email)"
   ]
  },
  {
   "cell_type": "code",
   "execution_count": 23,
   "id": "05b11091-3afe-4654-8d12-786ad5107be1",
   "metadata": {},
   "outputs": [
    {
     "ename": "TypeError",
     "evalue": "may.stud_details() takes 1 positional argument but 3 were given",
     "output_type": "error",
     "traceback": [
      "\u001b[0;31m---------------------------------------------------------------------------\u001b[0m",
      "\u001b[0;31mTypeError\u001b[0m                                 Traceback (most recent call last)",
      "Cell \u001b[0;32mIn[23], line 1\u001b[0m\n\u001b[0;32m----> 1\u001b[0m \u001b[43mmay\u001b[49m\u001b[38;5;241;43m.\u001b[39;49m\u001b[43mstud_details\u001b[49m\u001b[43m(\u001b[49m\u001b[38;5;124;43m\"\u001b[39;49m\u001b[38;5;124;43mjjss\u001b[39;49m\u001b[38;5;124;43m\"\u001b[39;49m\u001b[43m,\u001b[49m\u001b[38;5;124;43m\"\u001b[39;49m\u001b[38;5;124;43mjbddsj@g\u001b[39;49m\u001b[38;5;124;43m\"\u001b[39;49m\u001b[43m)\u001b[49m\n",
      "\u001b[0;31mTypeError\u001b[0m: may.stud_details() takes 1 positional argument but 3 were given"
     ]
    }
   ],
   "source": [
    "may.stud_details(\"jjss\",\"jbddsj@g\")"
   ]
  },
  {
   "cell_type": "code",
   "execution_count": null,
   "id": "4514598a-3068-465a-adff-186641a023bb",
   "metadata": {},
   "outputs": [],
   "source": []
  },
  {
   "cell_type": "code",
   "execution_count": 29,
   "id": "dfd73b7e-18ce-410e-af17-c6307d03952b",
   "metadata": {},
   "outputs": [],
   "source": [
    "class may:\n",
    "    def __init__(self,name,email):\n",
    "        self.name=name\n",
    "        self.email=email\n",
    "        \n",
    "    @classmethod\n",
    "    def abhi(cls,name,email):\n",
    "        return cls(name,email)\n",
    "    \n",
    "    def stud_details(self):\n",
    "        print(self.name,self.email)"
   ]
  },
  {
   "cell_type": "code",
   "execution_count": 31,
   "id": "4c3f35ba-abf7-4259-9412-6be627217942",
   "metadata": {},
   "outputs": [],
   "source": [
    "e=may.abhi(\"sdsd\",\"jsdskj@\")"
   ]
  },
  {
   "cell_type": "code",
   "execution_count": 32,
   "id": "5ae14744-8ee7-4c32-9db1-ab25faef67df",
   "metadata": {},
   "outputs": [
    {
     "data": {
      "text/plain": [
       "'sdsd'"
      ]
     },
     "execution_count": 32,
     "metadata": {},
     "output_type": "execute_result"
    }
   ],
   "source": [
    "e.name"
   ]
  },
  {
   "cell_type": "code",
   "execution_count": null,
   "id": "c7dc88b7-2570-41b8-9b14-770e90f43780",
   "metadata": {},
   "outputs": [],
   "source": []
  },
  {
   "cell_type": "code",
   "execution_count": 1,
   "id": "00f24bf3-0c93-48c8-959c-1a0a7c8ea77a",
   "metadata": {},
   "outputs": [],
   "source": [
    "class may:\n",
    "    def __init__(self,name,email):\n",
    "        self.name=name\n",
    "        self.email=email\n",
    "    \n",
    "    def stud_details(self):\n",
    "        print(self.name,self.email)"
   ]
  },
  {
   "cell_type": "code",
   "execution_count": 5,
   "id": "8899d267-197e-4629-a0f3-6595d18caa62",
   "metadata": {},
   "outputs": [
    {
     "ename": "TypeError",
     "evalue": "may.stud_details() takes 1 positional argument but 2 were given",
     "output_type": "error",
     "traceback": [
      "\u001b[0;31m---------------------------------------------------------------------------\u001b[0m",
      "\u001b[0;31mTypeError\u001b[0m                                 Traceback (most recent call last)",
      "Cell \u001b[0;32mIn[5], line 1\u001b[0m\n\u001b[0;32m----> 1\u001b[0m c\u001b[38;5;241m=\u001b[39m\u001b[43mmay\u001b[49m\u001b[38;5;241;43m.\u001b[39;49m\u001b[43mstud_details\u001b[49m\u001b[43m(\u001b[49m\u001b[38;5;124;43m\"\u001b[39;49m\u001b[38;5;124;43msassa\u001b[39;49m\u001b[38;5;124;43m\"\u001b[39;49m\u001b[43m,\u001b[49m\u001b[38;5;124;43m\"\u001b[39;49m\u001b[38;5;124;43msasa@gmail.com\u001b[39;49m\u001b[38;5;124;43m\"\u001b[39;49m\u001b[43m)\u001b[49m\n",
      "\u001b[0;31mTypeError\u001b[0m: may.stud_details() takes 1 positional argument but 2 were given"
     ]
    }
   ],
   "source": [
    "c=may.stud_details(\"sassa\",\"sasa@gmail.com\")"
   ]
  },
  {
   "cell_type": "code",
   "execution_count": 3,
   "id": "f8462ebe-223c-4941-89a8-eac571f116cb",
   "metadata": {},
   "outputs": [
    {
     "ename": "AttributeError",
     "evalue": "'function' object has no attribute 'name'",
     "output_type": "error",
     "traceback": [
      "\u001b[0;31m---------------------------------------------------------------------------\u001b[0m",
      "\u001b[0;31mAttributeError\u001b[0m                            Traceback (most recent call last)",
      "Cell \u001b[0;32mIn[3], line 1\u001b[0m\n\u001b[0;32m----> 1\u001b[0m \u001b[43mc\u001b[49m\u001b[38;5;241;43m.\u001b[39;49m\u001b[43mname\u001b[49m\n",
      "\u001b[0;31mAttributeError\u001b[0m: 'function' object has no attribute 'name'"
     ]
    }
   ],
   "source": [
    "c.name"
   ]
  },
  {
   "cell_type": "code",
   "execution_count": 33,
   "id": "fb813292-4759-415f-9eb2-a75c0f04b474",
   "metadata": {},
   "outputs": [],
   "source": [
    "#static method"
   ]
  },
  {
   "cell_type": "code",
   "execution_count": 34,
   "id": "1d2d1adb-66c0-41f4-a9a0-0ff44c9ac9f9",
   "metadata": {},
   "outputs": [],
   "source": [
    "class mayank:\n",
    "    def details(self,name,num):\n",
    "        print(name,num)\n",
    "        "
   ]
  },
  {
   "cell_type": "code",
   "execution_count": 36,
   "id": "236dd134-ed48-4a60-b6ea-baf9b57c0bcc",
   "metadata": {},
   "outputs": [],
   "source": [
    "c=mayank()"
   ]
  },
  {
   "cell_type": "code",
   "execution_count": 37,
   "id": "c4435c95-457e-4e1f-a4a4-242afcf5ab33",
   "metadata": {},
   "outputs": [
    {
     "name": "stdout",
     "output_type": "stream",
     "text": [
      "sadad sadsa@\n"
     ]
    }
   ],
   "source": [
    "c.details(\"sadad\",\"sadsa@\")"
   ]
  },
  {
   "cell_type": "code",
   "execution_count": null,
   "id": "8398d1d4-96f3-4796-9587-3d6e03207666",
   "metadata": {},
   "outputs": [],
   "source": []
  },
  {
   "cell_type": "code",
   "execution_count": 47,
   "id": "d6c10715-58e6-4cd2-8c8c-fc03caae127a",
   "metadata": {},
   "outputs": [],
   "source": [
    "class mayank1:\n",
    "    def details(self,name,num):\n",
    "        print(name,num)\n",
    "        \n",
    "    @staticmethod\n",
    "    def mentor(list_of_ment):\n",
    "        print(list_of_ment)\n",
    "        \n",
    "        "
   ]
  },
  {
   "cell_type": "code",
   "execution_count": 48,
   "id": "59172954-43be-4379-8828-5767c3f69035",
   "metadata": {},
   "outputs": [
    {
     "ename": "TypeError",
     "evalue": "mayank.details() missing 1 required positional argument: 'num'",
     "output_type": "error",
     "traceback": [
      "\u001b[0;31m---------------------------------------------------------------------------\u001b[0m",
      "\u001b[0;31mTypeError\u001b[0m                                 Traceback (most recent call last)",
      "Cell \u001b[0;32mIn[48], line 1\u001b[0m\n\u001b[0;32m----> 1\u001b[0m \u001b[43mmayank\u001b[49m\u001b[38;5;241;43m.\u001b[39;49m\u001b[43mdetails\u001b[49m\u001b[43m(\u001b[49m\u001b[38;5;124;43m\"\u001b[39;49m\u001b[38;5;124;43mdsds\u001b[39;49m\u001b[38;5;124;43m\"\u001b[39;49m\u001b[43m,\u001b[49m\u001b[38;5;124;43m\"\u001b[39;49m\u001b[38;5;124;43mdsd@\u001b[39;49m\u001b[38;5;124;43m\"\u001b[39;49m\u001b[43m)\u001b[49m\n",
      "\u001b[0;31mTypeError\u001b[0m: mayank.details() missing 1 required positional argument: 'num'"
     ]
    }
   ],
   "source": [
    "mayank.details(\"dsds\",\"dsd@\")"
   ]
  },
  {
   "cell_type": "code",
   "execution_count": 49,
   "id": "8f307a65-c689-4898-b386-820be8d85eb7",
   "metadata": {},
   "outputs": [],
   "source": [
    "c=mayank()"
   ]
  },
  {
   "cell_type": "code",
   "execution_count": 50,
   "id": "5d6335f6-fd73-4dbc-ba53-07fb882c19c6",
   "metadata": {},
   "outputs": [
    {
     "ename": "TypeError",
     "evalue": "mayank.details() missing 1 required positional argument: 'num'",
     "output_type": "error",
     "traceback": [
      "\u001b[0;31m---------------------------------------------------------------------------\u001b[0m",
      "\u001b[0;31mTypeError\u001b[0m                                 Traceback (most recent call last)",
      "Cell \u001b[0;32mIn[50], line 1\u001b[0m\n\u001b[0;32m----> 1\u001b[0m \u001b[43mmayank\u001b[49m\u001b[38;5;241;43m.\u001b[39;49m\u001b[43mdetails\u001b[49m\u001b[43m(\u001b[49m\u001b[38;5;124;43m\"\u001b[39;49m\u001b[38;5;124;43mdds\u001b[39;49m\u001b[38;5;124;43m\"\u001b[39;49m\u001b[43m,\u001b[49m\u001b[38;5;124;43m\"\u001b[39;49m\u001b[38;5;124;43mdssd@\u001b[39;49m\u001b[38;5;124;43m\"\u001b[39;49m\u001b[43m)\u001b[49m\n",
      "\u001b[0;31mTypeError\u001b[0m: mayank.details() missing 1 required positional argument: 'num'"
     ]
    }
   ],
   "source": [
    "mayank.details(\"dds\",\"dssd@\")"
   ]
  },
  {
   "cell_type": "code",
   "execution_count": 51,
   "id": "f2cf4e4c-d58f-4421-9ebd-6dc582135ac0",
   "metadata": {},
   "outputs": [
    {
     "name": "stdout",
     "output_type": "stream",
     "text": [
      "dsdsds Sdds@\n"
     ]
    }
   ],
   "source": [
    "c.details(\"dsdsds\",\"Sdds@\")"
   ]
  },
  {
   "cell_type": "code",
   "execution_count": null,
   "id": "b8bb6412-4cf7-4bcc-9625-e92def6af75b",
   "metadata": {},
   "outputs": [],
   "source": []
  },
  {
   "cell_type": "code",
   "execution_count": 54,
   "id": "6f4ed13e-0c5e-4b7a-9b81-15509c227e2e",
   "metadata": {},
   "outputs": [],
   "source": [
    "class mayank1:\n",
    "    def details(self,name,num):\n",
    "        print(name,num)\n",
    "        \n",
    "    @staticmethod\n",
    "    def mentor(list_of_ment):\n",
    "        print(list_of_ment)\n",
    "        \n",
    "        "
   ]
  },
  {
   "cell_type": "code",
   "execution_count": 55,
   "id": "9b60137f-0bfa-4aa3-9cdc-f9cc20bd6b38",
   "metadata": {},
   "outputs": [
    {
     "ename": "TypeError",
     "evalue": "mayank.details() missing 1 required positional argument: 'num'",
     "output_type": "error",
     "traceback": [
      "\u001b[0;31m---------------------------------------------------------------------------\u001b[0m",
      "\u001b[0;31mTypeError\u001b[0m                                 Traceback (most recent call last)",
      "Cell \u001b[0;32mIn[55], line 1\u001b[0m\n\u001b[0;32m----> 1\u001b[0m \u001b[43mmayank\u001b[49m\u001b[38;5;241;43m.\u001b[39;49m\u001b[43mdetails\u001b[49m\u001b[43m(\u001b[49m\u001b[38;5;124;43m\"\u001b[39;49m\u001b[38;5;124;43mdsds\u001b[39;49m\u001b[38;5;124;43m\"\u001b[39;49m\u001b[43m,\u001b[49m\u001b[38;5;124;43m\"\u001b[39;49m\u001b[38;5;124;43mdsd@\u001b[39;49m\u001b[38;5;124;43m\"\u001b[39;49m\u001b[43m)\u001b[49m \u001b[38;5;66;03m#you didt create object\u001b[39;00m\n",
      "\u001b[0;31mTypeError\u001b[0m: mayank.details() missing 1 required positional argument: 'num'"
     ]
    }
   ],
   "source": [
    "mayank.details(\"dsds\",\"dsd@\") #you didt create object"
   ]
  },
  {
   "cell_type": "code",
   "execution_count": 56,
   "id": "9aeebabc-bfbd-4115-812a-4e18b05ece13",
   "metadata": {},
   "outputs": [
    {
     "ename": "AttributeError",
     "evalue": "type object 'mayank' has no attribute 'mentor'",
     "output_type": "error",
     "traceback": [
      "\u001b[0;31m---------------------------------------------------------------------------\u001b[0m",
      "\u001b[0;31mAttributeError\u001b[0m                            Traceback (most recent call last)",
      "Cell \u001b[0;32mIn[56], line 1\u001b[0m\n\u001b[0;32m----> 1\u001b[0m \u001b[43mmayank\u001b[49m\u001b[38;5;241;43m.\u001b[39;49m\u001b[43mmentor\u001b[49m(\u001b[38;5;124m\"\u001b[39m\u001b[38;5;124mssa\u001b[39m\u001b[38;5;124m\"\u001b[39m,\u001b[38;5;124m\"\u001b[39m\u001b[38;5;124mASa\u001b[39m\u001b[38;5;124m\"\u001b[39m)\n",
      "\u001b[0;31mAttributeError\u001b[0m: type object 'mayank' has no attribute 'mentor'"
     ]
    }
   ],
   "source": [
    "mayank.mentor(\"ssa\",\"ASa\")"
   ]
  },
  {
   "cell_type": "code",
   "execution_count": null,
   "id": "3dbba217-881f-4b9b-9afa-f960eacfc7ac",
   "metadata": {},
   "outputs": [],
   "source": []
  }
 ],
 "metadata": {
  "kernelspec": {
   "display_name": "Python 3 (ipykernel)",
   "language": "python",
   "name": "python3"
  },
  "language_info": {
   "codemirror_mode": {
    "name": "ipython",
    "version": 3
   },
   "file_extension": ".py",
   "mimetype": "text/x-python",
   "name": "python",
   "nbconvert_exporter": "python",
   "pygments_lexer": "ipython3",
   "version": "3.10.8"
  }
 },
 "nbformat": 4,
 "nbformat_minor": 5
}
