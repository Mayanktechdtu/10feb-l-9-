{
 "cells": [
  {
   "cell_type": "code",
   "execution_count": null,
   "id": "2b115c46-5078-4f02-8fe7-6f8c644bd4fe",
   "metadata": {},
   "outputs": [],
   "source": []
  },
  {
   "cell_type": "code",
   "execution_count": 1,
   "id": "7f63625b-f039-44ad-aaa1-449fa08b497a",
   "metadata": {},
   "outputs": [],
   "source": [
    "class mayank:\n",
    "    def details(self,name,num):\n",
    "        print(name,num)\n",
    "        \n",
    "    \n",
    "        \n",
    "    \n",
    "        \n",
    "        "
   ]
  },
  {
   "cell_type": "code",
   "execution_count": 2,
   "id": "d7b21630-dd61-4251-90dc-7c9b43cd3915",
   "metadata": {},
   "outputs": [],
   "source": [
    "c=mayank()"
   ]
  },
  {
   "cell_type": "code",
   "execution_count": 3,
   "id": "cf3c2036-e771-4667-908a-3f4a5081fb07",
   "metadata": {},
   "outputs": [
    {
     "name": "stdout",
     "output_type": "stream",
     "text": [
      "sada jhsa\n"
     ]
    }
   ],
   "source": [
    "c.details(\"sada\",\"jhsa\")"
   ]
  },
  {
   "cell_type": "code",
   "execution_count": null,
   "id": "ad5ee31e-7579-430c-80da-82e90f7cac93",
   "metadata": {},
   "outputs": [],
   "source": []
  },
  {
   "cell_type": "code",
   "execution_count": 14,
   "id": "ef9488a9-9ca5-4249-b4a2-7f5bd2ebeadc",
   "metadata": {},
   "outputs": [],
   "source": [
    "class mayank:\n",
    "    @classmethod\n",
    "    def details(self,name,num):\n",
    "        print(name,num)\n",
    "        \n",
    "    \n",
    "        \n",
    "    \n",
    "        \n",
    "        "
   ]
  },
  {
   "cell_type": "code",
   "execution_count": 15,
   "id": "3260a2a9-11d5-440b-8091-9231f1aa5153",
   "metadata": {},
   "outputs": [
    {
     "name": "stdout",
     "output_type": "stream",
     "text": [
      "das 4343\n"
     ]
    }
   ],
   "source": [
    "mayank.details(\"das\",4343)"
   ]
  },
  {
   "cell_type": "code",
   "execution_count": null,
   "id": "8cc8b947-b09d-494a-bdef-cc51d51b6062",
   "metadata": {},
   "outputs": [],
   "source": []
  },
  {
   "cell_type": "code",
   "execution_count": 39,
   "id": "e81e1957-0692-4cc1-884c-57f9a27cfdf3",
   "metadata": {},
   "outputs": [],
   "source": [
    "class mayank:\n",
    "    def details(self,name,num):\n",
    "        print(name,num)\n",
    "        \n",
    "    @classmethod\n",
    "    def class_name(cls,name,num):\n",
    "        return(name,num)\n",
    "        \n",
    "    \n",
    "        \n",
    "        "
   ]
  },
  {
   "cell_type": "code",
   "execution_count": 41,
   "id": "32e56e2d-3047-490e-ab04-313c3a271547",
   "metadata": {},
   "outputs": [
    {
     "data": {
      "text/plain": [
       "('ss', 4334)"
      ]
     },
     "execution_count": 41,
     "metadata": {},
     "output_type": "execute_result"
    }
   ],
   "source": [
    "mayank.class_name(\"ss\",4334)"
   ]
  },
  {
   "cell_type": "code",
   "execution_count": 13,
   "id": "423d97d6-5771-4438-b6e5-e60aec8686ca",
   "metadata": {},
   "outputs": [
    {
     "ename": "TypeError",
     "evalue": "mayank.class_name() missing 2 required positional arguments: 'name' and 'num'",
     "output_type": "error",
     "traceback": [
      "\u001b[0;31m---------------------------------------------------------------------------\u001b[0m",
      "\u001b[0;31mTypeError\u001b[0m                                 Traceback (most recent call last)",
      "Cell \u001b[0;32mIn[13], line 1\u001b[0m\n\u001b[0;32m----> 1\u001b[0m \u001b[43mmayank\u001b[49m\u001b[38;5;241;43m.\u001b[39;49m\u001b[43mclass_name\u001b[49m\u001b[43m(\u001b[49m\u001b[43m)\u001b[49m\n",
      "\u001b[0;31mTypeError\u001b[0m: mayank.class_name() missing 2 required positional arguments: 'name' and 'num'"
     ]
    }
   ],
   "source": [
    "mayank.class_name()"
   ]
  },
  {
   "cell_type": "code",
   "execution_count": null,
   "id": "5a662bd1-ff75-41ae-a4a3-1330b78a9ac2",
   "metadata": {},
   "outputs": [],
   "source": []
  },
  {
   "cell_type": "code",
   "execution_count": 11,
   "id": "6cc47093-ccb6-42c2-9dab-2c27ab7e4be4",
   "metadata": {},
   "outputs": [],
   "source": [
    "class mayank:\n",
    "    def __init__(self,name,num):\n",
    "        print(name,num)\n",
    "        \n",
    "    @classmethod\n",
    "    def class_name(cls,name,num):\n",
    "        \n",
    "         return cls(name,num)\n",
    "        \n",
    "    \n",
    "        \n",
    "        "
   ]
  },
  {
   "cell_type": "code",
   "execution_count": 12,
   "id": "f8ee9bcb-6ad9-4df0-bfaa-b2e3d5ae3b31",
   "metadata": {},
   "outputs": [
    {
     "name": "stdout",
     "output_type": "stream",
     "text": [
      "ds 232\n"
     ]
    },
    {
     "data": {
      "text/plain": [
       "<__main__.mayank at 0x7f0b8c69b5e0>"
      ]
     },
     "execution_count": 12,
     "metadata": {},
     "output_type": "execute_result"
    }
   ],
   "source": [
    "mayank.class_name(\"ds\",232)"
   ]
  },
  {
   "cell_type": "code",
   "execution_count": null,
   "id": "fe6ba369-2345-46bb-9c52-e20d0206dde5",
   "metadata": {},
   "outputs": [],
   "source": []
  },
  {
   "cell_type": "code",
   "execution_count": null,
   "id": "cd0ceb5c-5a08-4ffe-a513-67c2e9cad4ec",
   "metadata": {},
   "outputs": [],
   "source": []
  }
 ],
 "metadata": {
  "kernelspec": {
   "display_name": "Python 3 (ipykernel)",
   "language": "python",
   "name": "python3"
  },
  "language_info": {
   "codemirror_mode": {
    "name": "ipython",
    "version": 3
   },
   "file_extension": ".py",
   "mimetype": "text/x-python",
   "name": "python",
   "nbconvert_exporter": "python",
   "pygments_lexer": "ipython3",
   "version": "3.10.8"
  }
 },
 "nbformat": 4,
 "nbformat_minor": 5
}
