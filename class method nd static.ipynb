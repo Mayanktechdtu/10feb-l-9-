{
 "cells": [
  {
   "cell_type": "code",
   "execution_count": 2,
   "id": "70b297b4-bd9c-4b5b-86d2-218a9594ddc0",
   "metadata": {},
   "outputs": [],
   "source": [
    "#class methods in which we not req. to create object"
   ]
  },
  {
   "cell_type": "code",
   "execution_count": 3,
   "id": "c207c661-960c-4f73-a643-b617eb6ddbf1",
   "metadata": {},
   "outputs": [],
   "source": [
    "class may:\n",
    "    def __init__(self,name,email):\n",
    "        self.name=name\n",
    "        self.email=email\n",
    "    \n",
    "    def stud_details(self):\n",
    "        print(self.name,self.email)"
   ]
  },
  {
   "cell_type": "code",
   "execution_count": 4,
   "id": "71eeff5e-5d2d-4cff-be14-a8ef293490cb",
   "metadata": {},
   "outputs": [],
   "source": [
    "c1=may(\"mayank\",\"mayan@gmail.com\")"
   ]
  },
  {
   "cell_type": "code",
   "execution_count": 5,
   "id": "7af94dc7-52e7-41bb-b205-f7e4ccd736c2",
   "metadata": {},
   "outputs": [
    {
     "data": {
      "text/plain": [
       "'mayank'"
      ]
     },
     "execution_count": 5,
     "metadata": {},
     "output_type": "execute_result"
    }
   ],
   "source": [
    "c1.name"
   ]
  },
  {
   "cell_type": "code",
   "execution_count": 12,
   "id": "17b4dd42-1668-43b2-99ed-5af92c730d3c",
   "metadata": {},
   "outputs": [],
   "source": [
    "#without creating object"
   ]
  },
  {
   "cell_type": "code",
   "execution_count": 3,
   "id": "6badc4a7-50aa-4150-88c6-40cb11031923",
   "metadata": {},
   "outputs": [],
   "source": [
    "class may:\n",
    "    def __init__(self,name,email):\n",
    "        self.name=name\n",
    "        self.email=email\n",
    "    \n",
    "    @classmethod\n",
    "    def details(cls,name,email):\n",
    "        return cls(name,email)\n",
    "    \n",
    "    def stud_details(self):\n",
    "        print(self.name,self.email)"
   ]
  },
  {
   "cell_type": "code",
   "execution_count": 4,
   "id": "30fe627b-ad30-41d2-8b28-d45442bddf2a",
   "metadata": {},
   "outputs": [],
   "source": [
    "c2=may.details(\"mamaa\",\"saa@gmail.com\") #no need to create obj"
   ]
  },
  {
   "cell_type": "code",
   "execution_count": 5,
   "id": "d0e2971a-0e63-49aa-b745-8e6b65ebcc17",
   "metadata": {},
   "outputs": [
    {
     "data": {
      "text/plain": [
       "<__main__.may at 0x7fcad0255db0>"
      ]
     },
     "execution_count": 5,
     "metadata": {},
     "output_type": "execute_result"
    }
   ],
   "source": [
    "may.details(\"mamaa\",\"saa@gmail.com\")"
   ]
  },
  {
   "cell_type": "code",
   "execution_count": 6,
   "id": "7a78d350-910c-4e42-93f6-029dd27fe74f",
   "metadata": {},
   "outputs": [
    {
     "data": {
      "text/plain": [
       "'mamaa'"
      ]
     },
     "execution_count": 6,
     "metadata": {},
     "output_type": "execute_result"
    }
   ],
   "source": [
    "c2.name"
   ]
  },
  {
   "cell_type": "code",
   "execution_count": null,
   "id": "7937c905-fc97-4e49-8368-de04f073238c",
   "metadata": {},
   "outputs": [],
   "source": []
  },
  {
   "cell_type": "code",
   "execution_count": 7,
   "id": "9f993fd3-791e-47a0-8f0c-dc43375fde1c",
   "metadata": {},
   "outputs": [],
   "source": [
    "class may:\n",
    "    \n",
    "    number=96552526627\n",
    "    \n",
    "    def __init__(self,name,email):\n",
    "        self.name=name\n",
    "        self.email=email\n",
    "    \n",
    "    @classmethod\n",
    "    def details(cls,name,email):\n",
    "        return cls(name,email)\n",
    "    \n",
    "    def stud_details(self):\n",
    "        print(self.name,self.email)"
   ]
  },
  {
   "cell_type": "code",
   "execution_count": 11,
   "id": "6208b4ec-8083-4ff6-a375-bd4eb670c02f",
   "metadata": {},
   "outputs": [],
   "source": [
    "q=may.details(\"jjas\",\"sassa@gmail.com\")"
   ]
  },
  {
   "cell_type": "code",
   "execution_count": 12,
   "id": "df2496b1-98a5-4554-8907-b5ca2a3d6da5",
   "metadata": {},
   "outputs": [
    {
     "data": {
      "text/plain": [
       "'jjas'"
      ]
     },
     "execution_count": 12,
     "metadata": {},
     "output_type": "execute_result"
    }
   ],
   "source": [
    "q.name"
   ]
  },
  {
   "cell_type": "code",
   "execution_count": 13,
   "id": "efb1c60f-512d-48c8-9095-b779aa6f6661",
   "metadata": {},
   "outputs": [
    {
     "data": {
      "text/plain": [
       "96552526627"
      ]
     },
     "execution_count": 13,
     "metadata": {},
     "output_type": "execute_result"
    }
   ],
   "source": [
    "q.number"
   ]
  },
  {
   "cell_type": "code",
   "execution_count": 15,
   "id": "b6447ebd-2328-411e-af62-59af0af62f07",
   "metadata": {},
   "outputs": [
    {
     "data": {
      "text/plain": [
       "96552526627"
      ]
     },
     "execution_count": 15,
     "metadata": {},
     "output_type": "execute_result"
    }
   ],
   "source": [
    "may.number #because number is not inside anything thats y it work with may.number"
   ]
  },
  {
   "cell_type": "code",
   "execution_count": 17,
   "id": "7e7e4a92-4871-43c7-8278-bd5a7b76277d",
   "metadata": {},
   "outputs": [
    {
     "ename": "AttributeError",
     "evalue": "type object 'may' has no attribute 'name'",
     "output_type": "error",
     "traceback": [
      "\u001b[0;31m---------------------------------------------------------------------------\u001b[0m",
      "\u001b[0;31mAttributeError\u001b[0m                            Traceback (most recent call last)",
      "Cell \u001b[0;32mIn[17], line 1\u001b[0m\n\u001b[0;32m----> 1\u001b[0m \u001b[43mmay\u001b[49m\u001b[38;5;241;43m.\u001b[39;49m\u001b[43mname\u001b[49m \u001b[38;5;66;03m#tis is not work\u001b[39;00m\n",
      "\u001b[0;31mAttributeError\u001b[0m: type object 'may' has no attribute 'name'"
     ]
    }
   ],
   "source": [
    "may.name #tis is not work"
   ]
  },
  {
   "cell_type": "code",
   "execution_count": null,
   "id": "06e6de96-2e3c-4055-83ea-91146a73fec9",
   "metadata": {},
   "outputs": [],
   "source": []
  },
  {
   "cell_type": "code",
   "execution_count": 18,
   "id": "098dc280-fcfe-4450-8923-87d4964c4878",
   "metadata": {},
   "outputs": [],
   "source": [
    "class may:\n",
    "    \n",
    "    number=96552526627\n",
    "    \n",
    "    def __init__(self,name,email):\n",
    "        self.name=name\n",
    "        self.email=email\n",
    "        \n",
    "    @classmethod\n",
    "    def change_number(cls,number):\n",
    "        may.number=number\n",
    "    \n",
    "    @classmethod\n",
    "    def details(cls,name,email):\n",
    "        return cls(name,email)\n",
    "    \n",
    "    def stud_details(self):\n",
    "        print(self.name,self.email)"
   ]
  },
  {
   "cell_type": "code",
   "execution_count": 19,
   "id": "1402c56d-b916-4978-ac34-ec9fdced9425",
   "metadata": {},
   "outputs": [],
   "source": [
    "may.change_number(43435454543)"
   ]
  },
  {
   "cell_type": "code",
   "execution_count": null,
   "id": "c4d5988e-992f-4bcc-81c6-eab548125d60",
   "metadata": {},
   "outputs": [],
   "source": [
    "may"
   ]
  },
  {
   "cell_type": "code",
   "execution_count": 20,
   "id": "e577cc3a-f9e1-4217-91f9-3968532f2587",
   "metadata": {},
   "outputs": [
    {
     "data": {
      "text/plain": [
       "43435454543"
      ]
     },
     "execution_count": 20,
     "metadata": {},
     "output_type": "execute_result"
    }
   ],
   "source": [
    "may.number"
   ]
  },
  {
   "cell_type": "code",
   "execution_count": null,
   "id": "6bfebe29-f6b5-4bad-9ca0-43b1dcb62419",
   "metadata": {},
   "outputs": [],
   "source": []
  },
  {
   "cell_type": "code",
   "execution_count": 1,
   "id": "8c00eabd-2029-4b68-b271-1ad1fc8f4f14",
   "metadata": {},
   "outputs": [],
   "source": [
    "class may:\n",
    "    number=999320327832742\n",
    "    def __init__(self,name,email):\n",
    "        self.name=name\n",
    "        self.email=email\n",
    "    \n",
    "    def stud_details(self):\n",
    "        print(self.name,self.email)"
   ]
  },
  {
   "cell_type": "code",
   "execution_count": 2,
   "id": "bd6972b7-22f5-4d0c-9158-f41cd49928d5",
   "metadata": {},
   "outputs": [
    {
     "data": {
      "text/plain": [
       "999320327832742"
      ]
     },
     "execution_count": 2,
     "metadata": {},
     "output_type": "execute_result"
    }
   ],
   "source": [
    "may.number"
   ]
  },
  {
   "cell_type": "code",
   "execution_count": null,
   "id": "ca020dae-4eb1-4c5b-8277-378c9e732a00",
   "metadata": {},
   "outputs": [],
   "source": []
  },
  {
   "cell_type": "code",
   "execution_count": 124,
   "id": "a66a60a0-bd60-4c2a-902a-01bd5192997d",
   "metadata": {},
   "outputs": [],
   "source": [
    "class may:\n",
    "    \n",
    "    number=96552526627\n",
    "    \n",
    "    def __init__(self,name,email,amount):\n",
    "        self.name=name\n",
    "        self.email=email\n",
    "        self.amount=amount\n",
    "        \n",
    "    @classmethod\n",
    "    def whales(cls,amount):\n",
    "        return cls(amount) #dont use cls here\n",
    "\n",
    "    @classmethod\n",
    "    def change_number(cls,number):\n",
    "        may.number=number\n",
    "    \n",
    "    @classmethod\n",
    "    def details(cls,name,email,amount):\n",
    "        return cls(name,email,amount)\n",
    "    \n",
    "    def stud_details(self):\n",
    "        print(self.name,self.email,self.amount)"
   ]
  },
  {
   "cell_type": "code",
   "execution_count": 125,
   "id": "6c509cb1-3bd5-49d6-b92c-17559932e9cb",
   "metadata": {},
   "outputs": [
    {
     "ename": "TypeError",
     "evalue": "may.__init__() missing 2 required positional arguments: 'email' and 'amount'",
     "output_type": "error",
     "traceback": [
      "\u001b[0;31m---------------------------------------------------------------------------\u001b[0m",
      "\u001b[0;31mTypeError\u001b[0m                                 Traceback (most recent call last)",
      "Cell \u001b[0;32mIn[125], line 1\u001b[0m\n\u001b[0;32m----> 1\u001b[0m \u001b[43mmay\u001b[49m\u001b[38;5;241;43m.\u001b[39;49m\u001b[43mwhales\u001b[49m\u001b[43m(\u001b[49m\u001b[38;5;241;43m3232\u001b[39;49m\u001b[43m)\u001b[49m\n",
      "Cell \u001b[0;32mIn[124], line 12\u001b[0m, in \u001b[0;36mmay.whales\u001b[0;34m(cls, amount)\u001b[0m\n\u001b[1;32m     10\u001b[0m \u001b[38;5;129m@classmethod\u001b[39m\n\u001b[1;32m     11\u001b[0m \u001b[38;5;28;01mdef\u001b[39;00m \u001b[38;5;21mwhales\u001b[39m(\u001b[38;5;28mcls\u001b[39m,amount):\n\u001b[0;32m---> 12\u001b[0m     \u001b[38;5;28;01mreturn\u001b[39;00m \u001b[38;5;28;43mcls\u001b[39;49m\u001b[43m(\u001b[49m\u001b[43mamount\u001b[49m\u001b[43m)\u001b[49m\n",
      "\u001b[0;31mTypeError\u001b[0m: may.__init__() missing 2 required positional arguments: 'email' and 'amount'"
     ]
    }
   ],
   "source": [
    "may.whales(3232)"
   ]
  },
  {
   "cell_type": "code",
   "execution_count": null,
   "id": "bb409dd6-f515-4f7b-a050-c666c1adf0bc",
   "metadata": {},
   "outputs": [],
   "source": []
  },
  {
   "cell_type": "code",
   "execution_count": 128,
   "id": "734ebcb5-1c83-44b3-9e22-7fb9b8a2b73c",
   "metadata": {},
   "outputs": [],
   "source": [
    "class may:\n",
    "    \n",
    "    number=96552526627\n",
    "    \n",
    "    def __init__(self,name,email,amount):\n",
    "        self.name=name\n",
    "        self.email=email\n",
    "        self.amount=amount\n",
    "        \n",
    "    @classmethod\n",
    "    def whales(cls,amount):\n",
    "        return (amount)\n",
    "\n",
    "    @classmethod\n",
    "    def change_number(cls,number):\n",
    "        may.number=number\n",
    "    \n",
    "    @classmethod\n",
    "    def details(cls,name,email,amount):\n",
    "        return cls(name,email,amount)\n",
    "    \n",
    "    def stud_details(self):\n",
    "        print(self.name,self.email,self.amount)"
   ]
  },
  {
   "cell_type": "code",
   "execution_count": 130,
   "id": "fd93316e-5174-4a3a-afb3-6eb3a030d940",
   "metadata": {},
   "outputs": [
    {
     "data": {
      "text/plain": [
       "67"
      ]
     },
     "execution_count": 130,
     "metadata": {},
     "output_type": "execute_result"
    }
   ],
   "source": [
    "may.whales(67)"
   ]
  },
  {
   "cell_type": "code",
   "execution_count": 115,
   "id": "aec66aff-3480-440c-846d-bde136f198ca",
   "metadata": {},
   "outputs": [],
   "source": [
    "i=may.details(\"ssassa\",\"sasa2g\",332)"
   ]
  },
  {
   "cell_type": "code",
   "execution_count": 116,
   "id": "3462f073-482e-417e-87df-a82e88c731ac",
   "metadata": {},
   "outputs": [
    {
     "data": {
      "text/plain": [
       "332"
      ]
     },
     "execution_count": 116,
     "metadata": {},
     "output_type": "execute_result"
    }
   ],
   "source": [
    "i.amount"
   ]
  },
  {
   "cell_type": "code",
   "execution_count": 21,
   "id": "da21bf63-61b4-472b-a1a9-8a1669c402c5",
   "metadata": {},
   "outputs": [],
   "source": [
    "#class method is not clear "
   ]
  },
  {
   "cell_type": "code",
   "execution_count": 21,
   "id": "f7ea4381-07a4-48f2-a3ee-9d6e7719164c",
   "metadata": {},
   "outputs": [],
   "source": [
    "#class method is not clear "
   ]
  },
  {
   "cell_type": "code",
   "execution_count": 22,
   "id": "2b63cec8-5035-465b-b66f-2dd217009200",
   "metadata": {},
   "outputs": [],
   "source": [
    "#static method"
   ]
  },
  {
   "cell_type": "code",
   "execution_count": null,
   "id": "6853a6e5-2a48-4e75-a5c5-018e644afccb",
   "metadata": {},
   "outputs": [],
   "source": []
  },
  {
   "cell_type": "code",
   "execution_count": 26,
   "id": "6f3a5c49-8724-4f12-8840-6916492033f7",
   "metadata": {},
   "outputs": [],
   "source": [
    "class mayank1:\n",
    "    def details(self,name,num):\n",
    "        print(name,num)\n",
    "        \n",
    "    def mentor(list_of_ment):\n",
    "        print(list_of_ment)\n",
    "        \n",
    "        "
   ]
  },
  {
   "cell_type": "code",
   "execution_count": 30,
   "id": "e521945a-cbb5-423f-876d-59e6a0bc8d73",
   "metadata": {},
   "outputs": [
    {
     "ename": "NameError",
     "evalue": "name 'mayank' is not defined",
     "output_type": "error",
     "traceback": [
      "\u001b[0;31m---------------------------------------------------------------------------\u001b[0m",
      "\u001b[0;31mNameError\u001b[0m                                 Traceback (most recent call last)",
      "Cell \u001b[0;32mIn[30], line 1\u001b[0m\n\u001b[0;32m----> 1\u001b[0m \u001b[43mmayank\u001b[49m\u001b[38;5;241m.\u001b[39mmentor([\u001b[38;5;124m\"\u001b[39m\u001b[38;5;124mdds\u001b[39m\u001b[38;5;124m\"\u001b[39m,\u001b[38;5;124m\"\u001b[39m\u001b[38;5;124mds\u001b[39m\u001b[38;5;124m\"\u001b[39m]) \u001b[38;5;66;03m#as no object define\u001b[39;00m\n",
      "\u001b[0;31mNameError\u001b[0m: name 'mayank' is not defined"
     ]
    }
   ],
   "source": [
    "mayank.mentor([\"dds\",\"ds\"]) #as no object define"
   ]
  },
  {
   "cell_type": "code",
   "execution_count": null,
   "id": "eb70c63f-4006-4e80-abbb-19a0d13dae8b",
   "metadata": {},
   "outputs": [],
   "source": []
  },
  {
   "cell_type": "code",
   "execution_count": 26,
   "id": "dd4a03c9-81df-4b79-86f6-5b7eb28f3d40",
   "metadata": {},
   "outputs": [],
   "source": [
    "class mayank1:\n",
    "    def details(self,name,num):\n",
    "        print(name,num)\n",
    "        \n",
    "    def mentor(list_of_ment):\n",
    "        print(list_of_ment)\n",
    "        \n",
    "        "
   ]
  },
  {
   "cell_type": "code",
   "execution_count": 31,
   "id": "87a2b870-2e19-4c4f-b890-33eda4e7fa04",
   "metadata": {},
   "outputs": [],
   "source": [
    "c=mayank1()"
   ]
  },
  {
   "cell_type": "code",
   "execution_count": 34,
   "id": "d5e97c8b-e3ba-48f8-8192-e12db853e826",
   "metadata": {},
   "outputs": [
    {
     "name": "stdout",
     "output_type": "stream",
     "text": [
      "sd Dsd\n"
     ]
    }
   ],
   "source": [
    "c.details(\"sd\",\"Dsd\")"
   ]
  },
  {
   "cell_type": "code",
   "execution_count": 35,
   "id": "82d8a393-59b4-4443-993d-b50f3854ddf8",
   "metadata": {},
   "outputs": [
    {
     "ename": "TypeError",
     "evalue": "mayank1.mentor() takes 1 positional argument but 3 were given",
     "output_type": "error",
     "traceback": [
      "\u001b[0;31m---------------------------------------------------------------------------\u001b[0m",
      "\u001b[0;31mTypeError\u001b[0m                                 Traceback (most recent call last)",
      "Cell \u001b[0;32mIn[35], line 1\u001b[0m\n\u001b[0;32m----> 1\u001b[0m \u001b[43mc\u001b[49m\u001b[38;5;241;43m.\u001b[39;49m\u001b[43mmentor\u001b[49m\u001b[43m(\u001b[49m\u001b[38;5;124;43m\"\u001b[39;49m\u001b[38;5;124;43msd\u001b[39;49m\u001b[38;5;124;43m\"\u001b[39;49m\u001b[43m,\u001b[49m\u001b[38;5;124;43m\"\u001b[39;49m\u001b[38;5;124;43mDsd\u001b[39;49m\u001b[38;5;124;43m\"\u001b[39;49m\u001b[43m)\u001b[49m\n",
      "\u001b[0;31mTypeError\u001b[0m: mayank1.mentor() takes 1 positional argument but 3 were given"
     ]
    }
   ],
   "source": [
    "c.mentor(\"sd\",\"Dsd\")"
   ]
  },
  {
   "cell_type": "code",
   "execution_count": null,
   "id": "69837e23-91e5-4d0e-987b-d576be8bb487",
   "metadata": {},
   "outputs": [],
   "source": []
  },
  {
   "cell_type": "code",
   "execution_count": 36,
   "id": "7b8c5f2d-719f-43d4-8822-b8837a17b7ab",
   "metadata": {},
   "outputs": [],
   "source": [
    "class mayank1:\n",
    "    def details(self,name,num):\n",
    "        print(name,num)\n",
    "        \n",
    "    def mentor(self,list_of_ment):\n",
    "        print(list_of_ment)\n",
    "        \n",
    "        "
   ]
  },
  {
   "cell_type": "code",
   "execution_count": 42,
   "id": "821ebdf2-0289-4a8a-b23c-1d6e04f53423",
   "metadata": {},
   "outputs": [],
   "source": [
    "c1=mayank1() #we first create object"
   ]
  },
  {
   "cell_type": "code",
   "execution_count": 43,
   "id": "1b696c70-51bd-4adf-aa95-bd8f9ac1ed20",
   "metadata": {},
   "outputs": [
    {
     "name": "stdout",
     "output_type": "stream",
     "text": [
      "['ssa', 'ewe']\n"
     ]
    }
   ],
   "source": [
    "c1.mentor([\"ssa\",\"ewe\"])"
   ]
  },
  {
   "cell_type": "code",
   "execution_count": 44,
   "id": "3696c052-8f29-4521-85eb-2ba2a0fe08b1",
   "metadata": {},
   "outputs": [],
   "source": [
    "class mayank1:\n",
    "    def details(self,name,num):\n",
    "        print(name,num)\n",
    "        \n",
    "    @staticmethod\n",
    "    def mentor(list_of_ment):\n",
    "        print(list_of_ment)\n",
    "        \n",
    "        "
   ]
  },
  {
   "cell_type": "code",
   "execution_count": 45,
   "id": "77a6a4bd-a5e8-47e2-86e4-5b16198c1b42",
   "metadata": {},
   "outputs": [
    {
     "name": "stdout",
     "output_type": "stream",
     "text": [
      "['asa', 'sasas']\n"
     ]
    }
   ],
   "source": [
    "mayank1.mentor([\"asa\",\"sasas\"]) #no need to create object"
   ]
  },
  {
   "cell_type": "code",
   "execution_count": null,
   "id": "c55cbdad-e623-453f-9f4e-d9ae087de078",
   "metadata": {},
   "outputs": [],
   "source": []
  },
  {
   "cell_type": "code",
   "execution_count": null,
   "id": "78aaf8c1-8f8c-467f-9efc-df48cd358ba4",
   "metadata": {},
   "outputs": [],
   "source": []
  },
  {
   "cell_type": "code",
   "execution_count": null,
   "id": "e828413b-a892-461d-aa16-7cc05e5f570d",
   "metadata": {},
   "outputs": [],
   "source": []
  },
  {
   "cell_type": "code",
   "execution_count": 57,
   "id": "8dfbf60e-e635-4c79-a48c-f485c4028738",
   "metadata": {},
   "outputs": [],
   "source": [
    "class mayank1:\n",
    "    def details(self,name,num):\n",
    "        print(name,num)\n",
    "        \n",
    "    @staticmethod\n",
    "    def mentor(list_of_ment):\n",
    "        print(list_of_ment)\n",
    "        \n",
    "    @classmethod\n",
    "    def class_name(cls):\n",
    "        cls.mentor([\"ss\",\"sdds\"])\n",
    "        \n",
    "    \n",
    "        \n",
    "        "
   ]
  },
  {
   "cell_type": "code",
   "execution_count": 58,
   "id": "1c199445-2631-40d9-b7a9-2088fad08fc8",
   "metadata": {},
   "outputs": [
    {
     "name": "stdout",
     "output_type": "stream",
     "text": [
      "['ss', 'sdds']\n"
     ]
    }
   ],
   "source": [
    "mayank1.class_name()"
   ]
  },
  {
   "cell_type": "code",
   "execution_count": null,
   "id": "dd0d2748-cfe3-4d77-ab28-0f53e33e0492",
   "metadata": {},
   "outputs": [],
   "source": [
    "#deco property"
   ]
  },
  {
   "cell_type": "code",
   "execution_count": 59,
   "id": "6a50a1aa-3519-4e06-af0a-c58282b39df1",
   "metadata": {},
   "outputs": [],
   "source": [
    "class mmaa:\n",
    "    def __init__(self,price,number):\n",
    "        self.__price=price\n",
    "        self.__number=number #it is private\n",
    "        "
   ]
  },
  {
   "cell_type": "code",
   "execution_count": 60,
   "id": "3d6c179e-7c93-4ad7-9695-afde381b13b3",
   "metadata": {},
   "outputs": [],
   "source": [
    "c=mmaa(3233,3424242423)"
   ]
  },
  {
   "cell_type": "code",
   "execution_count": 61,
   "id": "8d61a5c1-1f7e-4487-9088-de45f5d670d9",
   "metadata": {},
   "outputs": [
    {
     "ename": "AttributeError",
     "evalue": "'mmaa' object has no attribute 'price'",
     "output_type": "error",
     "traceback": [
      "\u001b[0;31m---------------------------------------------------------------------------\u001b[0m",
      "\u001b[0;31mAttributeError\u001b[0m                            Traceback (most recent call last)",
      "Cell \u001b[0;32mIn[61], line 1\u001b[0m\n\u001b[0;32m----> 1\u001b[0m \u001b[43mc\u001b[49m\u001b[38;5;241;43m.\u001b[39;49m\u001b[43mprice\u001b[49m\n",
      "\u001b[0;31mAttributeError\u001b[0m: 'mmaa' object has no attribute 'price'"
     ]
    }
   ],
   "source": [
    "c.price"
   ]
  },
  {
   "cell_type": "code",
   "execution_count": 62,
   "id": "0f5f1781-07e5-4698-bcd8-6f1aec3e71ed",
   "metadata": {},
   "outputs": [
    {
     "data": {
      "text/plain": [
       "3424242423"
      ]
     },
     "execution_count": 62,
     "metadata": {},
     "output_type": "execute_result"
    }
   ],
   "source": [
    "c._mmaa__number"
   ]
  },
  {
   "cell_type": "code",
   "execution_count": 63,
   "id": "a2bc6cfb-bbe5-4957-ad4b-4f52eb7d3969",
   "metadata": {},
   "outputs": [
    {
     "data": {
      "text/plain": [
       "3233"
      ]
     },
     "execution_count": 63,
     "metadata": {},
     "output_type": "execute_result"
    }
   ],
   "source": [
    "c._mmaa__price"
   ]
  },
  {
   "cell_type": "code",
   "execution_count": 64,
   "id": "54e2805d-dd16-42e4-8c2b-27aca8cf0a09",
   "metadata": {},
   "outputs": [],
   "source": [
    "#to give access"
   ]
  },
  {
   "cell_type": "code",
   "execution_count": null,
   "id": "2f4eda27-36ff-43e9-abdc-3df97b3f7c46",
   "metadata": {},
   "outputs": [],
   "source": []
  },
  {
   "cell_type": "code",
   "execution_count": 69,
   "id": "2ed24999-74e7-4ea1-b28d-0a346203e53d",
   "metadata": {},
   "outputs": [],
   "source": [
    "class mmaa:\n",
    "    def __init__(self,price,number):\n",
    "        self.__price=price\n",
    "        self.__number=number #it is private\n",
    "        \n",
    "    @property\n",
    "    def price_acess(self):\n",
    "        return self.__price\n",
    "    \n",
    "    \n",
    "        \n",
    "    \n",
    "    \n",
    "        "
   ]
  },
  {
   "cell_type": "code",
   "execution_count": 70,
   "id": "4a3e0fe8-6bdf-4e4c-91fc-991727b4c340",
   "metadata": {},
   "outputs": [],
   "source": [
    "c=mmaa(3232,322323232)"
   ]
  },
  {
   "cell_type": "code",
   "execution_count": 71,
   "id": "4071fb0a-d559-416f-b2fd-71039cec40e8",
   "metadata": {},
   "outputs": [
    {
     "ename": "AttributeError",
     "evalue": "'mmaa' object has no attribute 'price'",
     "output_type": "error",
     "traceback": [
      "\u001b[0;31m---------------------------------------------------------------------------\u001b[0m",
      "\u001b[0;31mAttributeError\u001b[0m                            Traceback (most recent call last)",
      "Cell \u001b[0;32mIn[71], line 1\u001b[0m\n\u001b[0;32m----> 1\u001b[0m \u001b[43mc\u001b[49m\u001b[38;5;241;43m.\u001b[39;49m\u001b[43mprice\u001b[49m\n",
      "\u001b[0;31mAttributeError\u001b[0m: 'mmaa' object has no attribute 'price'"
     ]
    }
   ],
   "source": [
    "c.price"
   ]
  },
  {
   "cell_type": "code",
   "execution_count": 72,
   "id": "8767790e-f8c8-46d5-b1a8-ef08b200f7d0",
   "metadata": {},
   "outputs": [
    {
     "data": {
      "text/plain": [
       "3232"
      ]
     },
     "execution_count": 72,
     "metadata": {},
     "output_type": "execute_result"
    }
   ],
   "source": [
    "c.price_acess"
   ]
  },
  {
   "cell_type": "code",
   "execution_count": null,
   "id": "32bd6683-70ed-4ef3-a7e3-d6a1e5452c9e",
   "metadata": {},
   "outputs": [],
   "source": []
  },
  {
   "cell_type": "code",
   "execution_count": 84,
   "id": "e9d30739-ca9f-49d2-82ab-16eaaea6d2c1",
   "metadata": {},
   "outputs": [],
   "source": [
    "class mmaa:\n",
    "    def __init__(self,price,number):\n",
    "        self.__price=price\n",
    "        self.__number=number #it is private\n",
    "        \n",
    "    @property\n",
    "    def price_acess(self):\n",
    "        return self.__price\n",
    "    \n",
    "    @price_acess.setter\n",
    "    def price_set(self,price):\n",
    "        if price>=5000:\n",
    "            print(\"ni luga\")\n",
    "        else:\n",
    "            self.__price=price\n",
    "        \n",
    "    \n",
    "    \n",
    "        "
   ]
  },
  {
   "cell_type": "code",
   "execution_count": 85,
   "id": "ca22ec3e-29c5-49b1-b1e0-60e1cf7a986c",
   "metadata": {},
   "outputs": [],
   "source": [
    "c1=mmaa(54545,42423432)"
   ]
  },
  {
   "cell_type": "code",
   "execution_count": 86,
   "id": "cc52cc5c-bed5-4c40-8212-9bd2bdf85ede",
   "metadata": {},
   "outputs": [
    {
     "data": {
      "text/plain": [
       "54545"
      ]
     },
     "execution_count": 86,
     "metadata": {},
     "output_type": "execute_result"
    }
   ],
   "source": [
    "c1.price_acess"
   ]
  },
  {
   "cell_type": "code",
   "execution_count": 87,
   "id": "76d2fb71-3007-4525-93ff-e0cdac74391b",
   "metadata": {},
   "outputs": [
    {
     "data": {
      "text/plain": [
       "54545"
      ]
     },
     "execution_count": 87,
     "metadata": {},
     "output_type": "execute_result"
    }
   ],
   "source": [
    "c1.price_set"
   ]
  },
  {
   "cell_type": "code",
   "execution_count": 89,
   "id": "2248c134-2e65-4747-9a46-17842cd8d9ee",
   "metadata": {},
   "outputs": [
    {
     "name": "stdout",
     "output_type": "stream",
     "text": [
      "ni luga\n"
     ]
    }
   ],
   "source": [
    "c1.price_set=7676"
   ]
  },
  {
   "cell_type": "code",
   "execution_count": 90,
   "id": "c64b79d2-c4b9-45f4-9ea1-81813e6324e7",
   "metadata": {},
   "outputs": [],
   "source": [
    "c1.price_set=3000"
   ]
  },
  {
   "cell_type": "code",
   "execution_count": 91,
   "id": "47abd2b2-9809-4013-9b3a-51c7091cb28f",
   "metadata": {},
   "outputs": [
    {
     "data": {
      "text/plain": [
       "3000"
      ]
     },
     "execution_count": 91,
     "metadata": {},
     "output_type": "execute_result"
    }
   ],
   "source": [
    "c1.price_acess"
   ]
  },
  {
   "cell_type": "code",
   "execution_count": null,
   "id": "f267b0ed-d5ad-49c4-88ce-1709c6edb4c5",
   "metadata": {},
   "outputs": [],
   "source": []
  },
  {
   "cell_type": "code",
   "execution_count": 92,
   "id": "f8af1c49-819f-4003-9612-e60146ffb526",
   "metadata": {},
   "outputs": [],
   "source": [
    "class mmaa:\n",
    "    def __init__(self,price,number):\n",
    "        self.__price=price\n",
    "        self.__number=number #it is private\n",
    "        \n",
    "    @property\n",
    "    def price_acess(self):\n",
    "        return self.__price\n",
    "    \n",
    "    @price_acess.setter\n",
    "    def price_set(self,price):\n",
    "        if price>=5000:\n",
    "            print(\"ni luga\")\n",
    "        else:\n",
    "            self.__price=price\n",
    "            \n",
    "            \n",
    "    @price_acess.deleter\n",
    "    def delete_price(self):\n",
    "        del self.__price\n",
    "        \n",
    "        \n",
    "    \n",
    "    \n",
    "        "
   ]
  },
  {
   "cell_type": "code",
   "execution_count": 93,
   "id": "afbba7b5-a194-43f2-ba91-8918ec707b7f",
   "metadata": {},
   "outputs": [],
   "source": [
    "c2=mmaa(224,4532323)\n"
   ]
  },
  {
   "cell_type": "code",
   "execution_count": 94,
   "id": "ea657730-6b31-43ab-9636-e493c8e7850c",
   "metadata": {},
   "outputs": [
    {
     "data": {
      "text/plain": [
       "224"
      ]
     },
     "execution_count": 94,
     "metadata": {},
     "output_type": "execute_result"
    }
   ],
   "source": [
    "c2.price_acess"
   ]
  },
  {
   "cell_type": "code",
   "execution_count": 97,
   "id": "40ffc30a-793b-4c14-ac43-5c86c66d437f",
   "metadata": {},
   "outputs": [],
   "source": [
    "del c2.delete_price"
   ]
  },
  {
   "cell_type": "code",
   "execution_count": 99,
   "id": "58ae17ac-d31e-4015-8985-3b23973d9853",
   "metadata": {},
   "outputs": [
    {
     "ename": "AttributeError",
     "evalue": "'mmaa' object has no attribute '_mmaa__price'",
     "output_type": "error",
     "traceback": [
      "\u001b[0;31m---------------------------------------------------------------------------\u001b[0m",
      "\u001b[0;31mAttributeError\u001b[0m                            Traceback (most recent call last)",
      "Cell \u001b[0;32mIn[99], line 1\u001b[0m\n\u001b[0;32m----> 1\u001b[0m \u001b[43mc2\u001b[49m\u001b[38;5;241;43m.\u001b[39;49m\u001b[43mprice_acess\u001b[49m \u001b[38;5;66;03m#as we delete\u001b[39;00m\n",
      "Cell \u001b[0;32mIn[92], line 8\u001b[0m, in \u001b[0;36mmmaa.price_acess\u001b[0;34m(self)\u001b[0m\n\u001b[1;32m      6\u001b[0m \u001b[38;5;129m@property\u001b[39m\n\u001b[1;32m      7\u001b[0m \u001b[38;5;28;01mdef\u001b[39;00m \u001b[38;5;21mprice_acess\u001b[39m(\u001b[38;5;28mself\u001b[39m):\n\u001b[0;32m----> 8\u001b[0m     \u001b[38;5;28;01mreturn\u001b[39;00m \u001b[38;5;28;43mself\u001b[39;49m\u001b[38;5;241;43m.\u001b[39;49m\u001b[43m__price\u001b[49m\n",
      "\u001b[0;31mAttributeError\u001b[0m: 'mmaa' object has no attribute '_mmaa__price'"
     ]
    }
   ],
   "source": [
    "c2.price_acess #as we delete"
   ]
  }
 ],
 "metadata": {
  "kernelspec": {
   "display_name": "Python 3 (ipykernel)",
   "language": "python",
   "name": "python3"
  },
  "language_info": {
   "codemirror_mode": {
    "name": "ipython",
    "version": 3
   },
   "file_extension": ".py",
   "mimetype": "text/x-python",
   "name": "python",
   "nbconvert_exporter": "python",
   "pygments_lexer": "ipython3",
   "version": "3.10.8"
  }
 },
 "nbformat": 4,
 "nbformat_minor": 5
}
