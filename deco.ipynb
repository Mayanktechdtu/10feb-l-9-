{
 "cells": [
  {
   "cell_type": "code",
   "execution_count": 1,
   "id": "a1344df7-ca19-4763-92cd-3de39189cd7c",
   "metadata": {},
   "outputs": [],
   "source": [
    "#decorators"
   ]
  },
  {
   "cell_type": "code",
   "execution_count": 4,
   "id": "792aaf29-83c7-4443-aaf4-7a0c8445b1f8",
   "metadata": {},
   "outputs": [],
   "source": [
    "def test():\n",
    "    print(\"start of code\")\n",
    "    print(\"ddsdsd\")\n",
    "    print(\"end of code\")"
   ]
  },
  {
   "cell_type": "code",
   "execution_count": 5,
   "id": "5f66fa47-e8ab-4c6c-86a3-819690374c0e",
   "metadata": {},
   "outputs": [
    {
     "name": "stdout",
     "output_type": "stream",
     "text": [
      "start of code\n",
      "ddsdsd\n",
      "end of code\n"
     ]
    }
   ],
   "source": [
    "test()"
   ]
  },
  {
   "cell_type": "code",
   "execution_count": null,
   "id": "6080f3ce-bdb2-41d2-bfe7-5df2eea5ce0c",
   "metadata": {},
   "outputs": [],
   "source": [
    "#use decorate..."
   ]
  },
  {
   "cell_type": "code",
   "execution_count": 6,
   "id": "a5cc9216-e16f-462c-a90f-d46174bec6a1",
   "metadata": {},
   "outputs": [],
   "source": [
    "def deco(func):\n",
    "    def inner_dec():\n",
    "        print(\"start of code\")\n",
    "        func()\n",
    "        print(\"end of code\")\n",
    "    return inner_dec"
   ]
  },
  {
   "cell_type": "code",
   "execution_count": 16,
   "id": "59a00036-8675-40cd-b217-ae9c9c19bb51",
   "metadata": {},
   "outputs": [],
   "source": [
    "def test1():\n",
    "    print(8+33)\n",
    "    print(\"mayank\")"
   ]
  },
  {
   "cell_type": "code",
   "execution_count": 17,
   "id": "be083954-d6ba-4b04-99a0-cae3f3da7121",
   "metadata": {},
   "outputs": [
    {
     "name": "stdout",
     "output_type": "stream",
     "text": [
      "41\n",
      "mayank\n"
     ]
    }
   ],
   "source": [
    "test1()"
   ]
  },
  {
   "cell_type": "code",
   "execution_count": 20,
   "id": "2ea53b41-19c2-4542-8927-368f2d8ffcec",
   "metadata": {},
   "outputs": [],
   "source": [
    "@deco\n",
    "def test1():\n",
    "    print(8+33)\n",
    "    print(\"saasas\")"
   ]
  },
  {
   "cell_type": "code",
   "execution_count": 21,
   "id": "0e032e24-d468-4b41-952b-4333a55312f3",
   "metadata": {},
   "outputs": [
    {
     "name": "stdout",
     "output_type": "stream",
     "text": [
      "start of code\n",
      "41\n",
      "saasas\n",
      "end of code\n"
     ]
    }
   ],
   "source": [
    "test1()"
   ]
  },
  {
   "cell_type": "code",
   "execution_count": 22,
   "id": "6d2aff2d-8390-4c00-b523-ec5765d2130b",
   "metadata": {},
   "outputs": [],
   "source": [
    "#time"
   ]
  },
  {
   "cell_type": "code",
   "execution_count": 23,
   "id": "e3db68d9-431a-43ed-999a-835682f69804",
   "metadata": {},
   "outputs": [],
   "source": [
    "import time"
   ]
  },
  {
   "cell_type": "code",
   "execution_count": 24,
   "id": "b4a4ae7f-2fa6-417b-975c-1895e3d0e3e6",
   "metadata": {},
   "outputs": [],
   "source": [
    "def timer_test(func):\n",
    "    def timer_test_inner():\n",
    "        start=time.time()\n",
    "        func()\n",
    "        end=time.time()\n",
    "        print(end-start)\n",
    "    return timer_test_inner"
   ]
  },
  {
   "cell_type": "code",
   "execution_count": 25,
   "id": "f92d4cb3-db18-4b54-8d30-53d7dd2df4b1",
   "metadata": {},
   "outputs": [],
   "source": [
    "def test2():\n",
    "    print(3424253-23353)"
   ]
  },
  {
   "cell_type": "code",
   "execution_count": 26,
   "id": "fa949e53-2509-4f59-9dbf-f54aa3a7c665",
   "metadata": {},
   "outputs": [
    {
     "name": "stdout",
     "output_type": "stream",
     "text": [
      "3400900\n"
     ]
    }
   ],
   "source": [
    "test2()\n"
   ]
  },
  {
   "cell_type": "code",
   "execution_count": null,
   "id": "30b24d7b-db85-4716-8a32-4846a5ef395d",
   "metadata": {},
   "outputs": [],
   "source": []
  },
  {
   "cell_type": "code",
   "execution_count": 27,
   "id": "f23b3c24-87aa-48a1-bc7d-a67794b89de0",
   "metadata": {},
   "outputs": [],
   "source": [
    "@timer_test\n",
    "def test2():\n",
    "    print(3424253-23353)"
   ]
  },
  {
   "cell_type": "code",
   "execution_count": 28,
   "id": "43fd34a1-2965-4f11-808d-744cb616ded0",
   "metadata": {},
   "outputs": [
    {
     "name": "stdout",
     "output_type": "stream",
     "text": [
      "3400900\n",
      "4.482269287109375e-05\n"
     ]
    }
   ],
   "source": [
    "test2()"
   ]
  },
  {
   "cell_type": "code",
   "execution_count": 33,
   "id": "1f4d7623-921a-4920-b3fd-9c75a4e5103f",
   "metadata": {},
   "outputs": [],
   "source": [
    "@timer_test\n",
    "def test3():\n",
    "    for i in range(1022):\n",
    "        print(\"whalestreet\")"
   ]
  },
  {
   "cell_type": "code",
   "execution_count": null,
   "id": "4f8bdfdc-964f-4d96-8320-a00a199b8714",
   "metadata": {},
   "outputs": [],
   "source": []
  }
 ],
 "metadata": {
  "kernelspec": {
   "display_name": "Python 3 (ipykernel)",
   "language": "python",
   "name": "python3"
  },
  "language_info": {
   "codemirror_mode": {
    "name": "ipython",
    "version": 3
   },
   "file_extension": ".py",
   "mimetype": "text/x-python",
   "name": "python",
   "nbconvert_exporter": "python",
   "pygments_lexer": "ipython3",
   "version": "3.10.8"
  }
 },
 "nbformat": 4,
 "nbformat_minor": 5
}
